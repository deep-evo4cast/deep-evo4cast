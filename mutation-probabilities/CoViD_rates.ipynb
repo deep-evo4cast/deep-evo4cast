{
  "nbformat": 4,
  "nbformat_minor": 0,
  "metadata": {
    "colab": {
      "name": "CoViD-rates.ipynb",
      "provenance": [],
      "collapsed_sections": []
    },
    "kernelspec": {
      "name": "python3",
      "display_name": "Python 3"
    },
    "language_info": {
      "name": "python"
    }
  },
  "cells": [
    {
      "cell_type": "markdown",
      "source": [
        "Let's start with basics: DNA code, codon tables and amino acids (extended with '_' for the STOP codon)."
      ],
      "metadata": {
        "id": "QO29-8kgSgJn"
      }
    },
    {
      "cell_type": "code",
      "source": [
        "import numpy as np\n",
        "from scipy.linalg import expm\n",
        "\n",
        "# We use DNA codes (instead of RNA: T vs U) everywhere\n",
        "NAindex = {'A':0, 'T':1, 'C':2, 'G':3}\n",
        "codons = {\n",
        "        'ATA':'I', 'ATC':'I', 'ATT':'I', 'ATG':'M',\n",
        "        'ACA':'T', 'ACC':'T', 'ACG':'T', 'ACT':'T',\n",
        "        'AAC':'N', 'AAT':'N', 'AAA':'K', 'AAG':'K',\n",
        "        'AGC':'S', 'AGT':'S', 'AGA':'R', 'AGG':'R',                \n",
        "        'CTA':'L', 'CTC':'L', 'CTG':'L', 'CTT':'L',\n",
        "        'CCA':'P', 'CCC':'P', 'CCG':'P', 'CCT':'P',\n",
        "        'CAC':'H', 'CAT':'H', 'CAA':'Q', 'CAG':'Q',\n",
        "        'CGA':'R', 'CGC':'R', 'CGG':'R', 'CGT':'R',\n",
        "        'GTA':'V', 'GTC':'V', 'GTG':'V', 'GTT':'V',\n",
        "        'GCA':'A', 'GCC':'A', 'GCG':'A', 'GCT':'A',\n",
        "        'GAC':'D', 'GAT':'D', 'GAA':'E', 'GAG':'E',\n",
        "        'GGA':'G', 'GGC':'G', 'GGG':'G', 'GGT':'G',\n",
        "        'TCA':'S', 'TCC':'S', 'TCG':'S', 'TCT':'S',\n",
        "        'TTC':'F', 'TTT':'F', 'TTA':'L', 'TTG':'L',\n",
        "        'TAC':'Y', 'TAT':'Y', 'TAA':'_', 'TAG':'_',\n",
        "        'TGC':'C', 'TGT':'C', 'TGA':'_', 'TGG':'W',\n",
        "    }\n",
        "\n",
        "# to later map codons to indices inside stochastic matrices\n",
        "codon_index = {}\n",
        "for i,c in enumerate(codons.keys()):\n",
        "    codon_index[c] = i\n",
        "\n",
        "AA_order = \"IMTNKSRLPHQVADEGFYCW_\" # codons order with STOP at the end\n",
        "\n",
        "# to later map AAs to indices inside stochastic matrices\n",
        "AA_index = {}\n",
        "for i,a in enumerate(AA_order):\n",
        "    AA_index[a] = i"
      ],
      "metadata": {
        "id": "AvV_oligS_NH"
      },
      "execution_count": 1,
      "outputs": []
    },
    {
      "cell_type": "markdown",
      "source": [
        "We used https://www.ncbi.nlm.nih.gov/pmc/articles/PMC7560444/ to find DNA mutation rates for CoVid, derived using MEGA (https://www.megasoftware.net/). The data needs to be 'normalized' (sum of rates should be 0). The \"best\" model for AIC or BIC seems the more flexible one (GTR)."
      ],
      "metadata": {
        "id": "SaoLBVGhTP9i"
      }
    },
    {
      "cell_type": "code",
      "source": [
        "def norm_rate(rate):\n",
        "    d = np.sum(rate,axis=1)\n",
        "    np.fill_diagonal(rate,-d)\n",
        "    return rate\n",
        "    \n",
        "# GTR model\n",
        "m_rate_GTR = norm_rate(np.array([[0 ,    12.05, 8.25, 8.97],\n",
        "                                 [10.64,  0   , 6   , 3.64],\n",
        "                                 [11.87,  9.78, 0   , 5.72],\n",
        "                                 [12.13 , 5.57, 5.38, 0   ]]))"
      ],
      "metadata": {
        "id": "owuv8lCXTnpl"
      },
      "execution_count": 2,
      "outputs": []
    },
    {
      "cell_type": "markdown",
      "source": [
        "To compute AA to AA mutation frequencies, we will need to get codon biases. Instead of deriving them from the above, we used the RSCU values from https://virologyj.biomedcentral.com/articles/10.1186/s12985-020-01395-x. The RSCU is the ratio between observed and expected (uniform) probability among synonymous codons. Its sum over the codons of a given AA should be the code degeneracy for this AA. Because of rounding, this is not exactly true in the table below."
      ],
      "metadata": {
        "id": "R1KRPtI6UNBu"
      }
    },
    {
      "cell_type": "code",
      "source": [
        "SARS_Cov_CU = {\n",
        "'AGA': 2.67,\n",
        "'TAA': 2.4,\n",
        "'GGT': 2.34,\n",
        "'GCT': 2.18,\n",
        "'TCT': 1.97,\n",
        "'GTT': 1.95,\n",
        "'CCT': 1.94,\n",
        "'ACT': 1.78,\n",
        "'CTT': 1.74,\n",
        "'TCA': 1.66,\n",
        "'ACA': 1.64,\n",
        "'TTA': 1.63,\n",
        "'CCA': 1.59,\n",
        "'TGT': 1.55,\n",
        "'ATT': 1.52,\n",
        "'CGT': 1.46,\n",
        "'AGT': 1.44,\n",
        "'GAA': 1.44,\n",
        "'TTT': 1.41,\n",
        "'CAT': 1.39,\n",
        "'CAA': 1.39,\n",
        "'AAT': 1.35,\n",
        "'AAA': 1.31,\n",
        "'GAT': 1.28,\n",
        "'TAT': 1.22,\n",
        "'GCA': 1.1,\n",
        "'TTG': 1.07,\n",
        "'ATG': 1.0,\n",
        "'TGG': 1.0,\n",
        "'ATA': 0.93,\n",
        "'GTA': 0.91,\n",
        "'GGA': 0.83,\n",
        "'AGG': 0.81,\n",
        "'TAC': 0.78,\n",
        "'GGC': 0.72,\n",
        "'GAC': 0.72,\n",
        "'AAG': 0.69,\n",
        "'CTA': 0.66,\n",
        "'AAC': 0.65,\n",
        "'CAG': 0.61,\n",
        "'CAC': 0.61,\n",
        "'CTC': 0.6,\n",
        "'TTC': 0.59,\n",
        "'CGC': 0.58,\n",
        "'GTG': 0.57,\n",
        "'GCC': 0.57,\n",
        "'GAG': 0.56,\n",
        "'GTC': 0.56,\n",
        "'ATC': 0.56,\n",
        "'TCC': 0.46,\n",
        "'TGC': 0.45,\n",
        "'ACC': 0.38,\n",
        "'AGC': 0.36,\n",
        "'TAG': 0.3,\n",
        "'TGA': 0.3,\n",
        "'CCC': 0.29,\n",
        "'CTG': 0.29,\n",
        "'CGA': 0.29,\n",
        "'ACG': 0.2,\n",
        "'CGG': 0.19,\n",
        "'CCG': 0.17,\n",
        "'GCG': 0.15,\n",
        "'GGG': 0.12,\n",
        "'TCG': 0.11\n",
        "}"
      ],
      "metadata": {
        "id": "5N22pWl3UyMU"
      },
      "execution_count": 3,
      "outputs": []
    },
    {
      "cell_type": "markdown",
      "source": [
        "Now, the mutation rates can be transformed into transition probability matrices using matrix exponentiation (assuming a given time step `t`. We used scipy Pade approximation (see top import)."
      ],
      "metadata": {
        "id": "2ezDvE41U25A"
      }
    },
    {
      "cell_type": "code",
      "source": [
        "def rate2trans(rate,t):\n",
        "    \"\"\"converts a mutation rate matrix into a transition matrix for steps t\"\"\"\n",
        "    return expm(rate*t)"
      ],
      "metadata": {
        "id": "uLdegTNIVEwp"
      },
      "execution_count": 4,
      "outputs": []
    },
    {
      "cell_type": "markdown",
      "source": [
        "We can now build a codon2codon transition probability matrix, assuming each codon position mutates independently of others (which should be Ok at DNA mutation level). This produces a stochastic matrix of conditional probabilities, each row summing to 1."
      ],
      "metadata": {
        "id": "rwsziVUgVit6"
      }
    },
    {
      "cell_type": "code",
      "source": [
        "def codon2codon(rate,t):\n",
        "    \"\"\"Computes a codon to codon transition probability matrix for each pair of codons\"\"\"\n",
        "    tp = rate2trans(rate,t)\n",
        "    c2c = np.zeros((64,64))\n",
        "    for i1,c1 in enumerate(codons.keys()):\n",
        "        for i2,c2 in enumerate(codons.keys()):\n",
        "            f = 1.0\n",
        "            for i in range(0,3):\n",
        "                f *= tp[NAindex[c1[i]],NAindex[c2[i]]]\n",
        "            c2c[i1,i2] = f\n",
        "    return c2c\n",
        "\n",
        "# checking stochasticity\n",
        "c2c = codon2codon(m_rate_GTR,1.0/1650)\n",
        "print(np.sum(c2c,axis=1))"
      ],
      "metadata": {
        "colab": {
          "base_uri": "https://localhost:8080/"
        },
        "id": "blXN_LWMWD9_",
        "outputId": "71ac188a-5ad5-4809-f734-241088d4c74e"
      },
      "execution_count": 5,
      "outputs": [
        {
          "output_type": "stream",
          "name": "stdout",
          "text": [
            "[1. 1. 1. 1. 1. 1. 1. 1. 1. 1. 1. 1. 1. 1. 1. 1. 1. 1. 1. 1. 1. 1. 1. 1.\n",
            " 1. 1. 1. 1. 1. 1. 1. 1. 1. 1. 1. 1. 1. 1. 1. 1. 1. 1. 1. 1. 1. 1. 1. 1.\n",
            " 1. 1. 1. 1. 1. 1. 1. 1. 1. 1. 1. 1. 1. 1. 1. 1.]\n"
          ]
        }
      ]
    },
    {
      "cell_type": "markdown",
      "source": [
        "We are now in good shape to compute our AA to AA transition probability matrix (again a stochastic matrix). We will assume that each AA is represented stochastically by a hiddden codon that appears with its codon bias frequency, given the AA. \n",
        "\n",
        "We need to gather the list of codons for each AA from the codon table above."
      ],
      "metadata": {
        "id": "BtmVAUJ-WK9a"
      }
    },
    {
      "cell_type": "code",
      "source": [
        "def aa2c():\n",
        "    \"\"\"Builts and returns a dictionary mapping each AA to its codon list\"\"\"\n",
        "    aatoc = {}\n",
        "    for c,a in codons.items():\n",
        "        if a not in aatoc: aatoc[a] = []\n",
        "        aatoc[a].append(c)\n",
        "    return aatoc"
      ],
      "metadata": {
        "id": "N-kDHeYjWo9b"
      },
      "execution_count": 6,
      "outputs": []
    },
    {
      "cell_type": "markdown",
      "source": [
        "We can compute the AA to AA transition matrix. We first correct the RSCU ratio so that they properly sum to the expected number of codons (this is slightly violated because of rounding to 2 decimals in the RSCU table above).  The probability of transition to a given amino acid `aa2` from an amino acid `aa1` is just the sum of all possible transitions over all codons representing these AAs, weighted by the codon bias of `aa1`.\n",
        "\n",
        "This should again give a stochastic matrix of conditional probabilities."
      ],
      "metadata": {
        "id": "Jkm2zCvlWxRr"
      }
    },
    {
      "cell_type": "code",
      "source": [
        "def AA2AA(rate,t):\n",
        "    \"\"\"Computes an AA to AA transition probability matrix for each pair of \n",
        "    AAs (including STOP aka '_'). We assume that the hidden codon used by an \n",
        "    AA appears with it's codon bias marginal probability.\"\"\"\n",
        "    A2A = np.zeros((21,21))\n",
        "    aa2cod = aa2c()\n",
        "    # correct RSCU for rounding to preserve probabilities\n",
        "    for aa,lcod in aa2cod.items():\n",
        "        m = 0\n",
        "        for cod in lcod:\n",
        "            m += SARS_Cov_CU[cod]\n",
        "        rm = m/float(len(lcod))\n",
        "        for cod in lcod:\n",
        "            SARS_Cov_CU[cod] /= rm\n",
        "\n",
        "    cod2cod = codon2codon(rate,t)\n",
        "    for aa1,lcod1 in aa2cod.items():\n",
        "        ncod1 = len(lcod1)\n",
        "        apcod1 = 1.0/ncod1 # a priori frequency without codon bias\n",
        "        for cod1 in lcod1:\n",
        "            fcod1 = apcod1 * SARS_Cov_CU[cod1] # codon bias corrected frequency \n",
        "            for aa2,lcod2 in aa2cod.items():\n",
        "                for cod2 in lcod2:\n",
        "                    f = fcod1 * cod2cod[codon_index[cod1],codon_index[cod2]]\n",
        "                    A2A[AA_index[aa1],AA_index[aa2]] += f\n",
        "    return A2A\n",
        "\n",
        "# checking stochasticity\n",
        "a2a = AA2AA(m_rate_GTR,1.0/(27*3*25))\n",
        "print(np.sum(a2a,axis=1))"
      ],
      "metadata": {
        "colab": {
          "base_uri": "https://localhost:8080/"
        },
        "id": "DBHsAeMWYaeX",
        "outputId": "5f39ebaa-2312-4662-f2ae-84c9c5e961f8"
      },
      "execution_count": 9,
      "outputs": [
        {
          "output_type": "stream",
          "name": "stdout",
          "text": [
            "[1. 1. 1. 1. 1. 1. 1. 1. 1. 1. 1. 1. 1. 1. 1. 1. 1. 1. 1. 1. 1.]\n"
          ]
        }
      ]
    },
    {
      "cell_type": "markdown",
      "source": [
        "We can transform this to an \"energy\" (log probability) matrix using a $-\\log(\\cdot)$ transform. We use a time step of $\\frac{1}{27\\times 3\\times 25}$ time-step that should match the rate of one DNA mutation over 27 amino acids/codons. The table makes sense: the higher the number, the less likely the mutation because of DNA mutation rates, codon biases and codon table: `W` is hard to reach for example, mostly because it has just one codon. `W` also likes to mutate into a STOP codon because its codon - TGG - is very close to 2 stop codons - TGA and TAG - with just one mutation from G to A, while CoViD is AT rich and its polymerase loves mutating G into A."
      ],
      "metadata": {
        "id": "jTPTiyYTZIu1"
      }
    },
    {
      "cell_type": "code",
      "source": [
        "a2a_energy = -np.log(a2a)\n",
        "for i,a in enumerate(AA_order):\n",
        "  print('   ',a, end = '')\n",
        "print()\n",
        "for i1,a1 in enumerate(AA_order):\n",
        "  print(a1,end=' ')\n",
        "  for i2,a2 in enumerate(AA_order):\n",
        "    print(f'{a2a_energy[i1,i2]:4.1f}',end=' ')\n",
        "  print()\n",
        "\n",
        "# Less likely mutation\n",
        "llm_from, llm_to = np.unravel_index(np.argmax(a2a_energy, axis=None), a2a_energy.shape)\n",
        "print(f'\\nLess likely mutation: {AA_order[llm_from]} to {AA_order[llm_to]}')"
      ],
      "metadata": {
        "colab": {
          "base_uri": "https://localhost:8080/"
        },
        "id": "g3FOh5maZoky",
        "outputId": "885bcf19-3bf6-4853-99b9-62ad67fb7474"
      },
      "execution_count": 10,
      "outputs": [
        {
          "output_type": "stream",
          "name": "stdout",
          "text": [
            "    I    M    T    N    K    S    R    L    P    H    Q    V    A    D    E    G    F    Y    C    W    _\n",
            "I  0.0  5.9  5.8  5.6  6.4  6.7  7.5  5.1 11.3 11.1 11.9  5.4 11.3 11.1 11.9 11.8  5.5 10.8 11.8 17.3 11.3 \n",
            "M  4.5  0.0  5.8 10.5  5.3 10.5  6.3  4.6 11.3 16.0 10.8  5.4 11.3 15.9 10.7 11.8 10.4 15.6 16.7 11.5 10.4 \n",
            "T  5.4  8.3  0.0  5.8  5.9  4.9  6.7 10.3  5.5 11.3 11.4 10.8  5.4 11.2 11.4 11.3 11.1 10.9 11.6 14.0 10.7 \n",
            "N  5.2 11.3  5.5  0.0  4.9  5.4  9.9 10.6 11.0  5.5 10.4 10.6 10.9  5.5 10.3 10.9 10.3  5.2 10.6 16.7 10.0 \n",
            "K  5.6  6.2  5.5  4.8  0.0  9.7  5.4  9.8 11.0 10.3  5.5 10.6 10.9 10.2  5.5 10.9 15.1  9.9 15.3 11.6  5.2 \n",
            "S  7.1 13.1  5.4  6.3 10.7  0.0  5.7  6.6  6.2 11.2 12.2 11.6  6.7 11.3 12.7  6.6  6.3  6.1  5.9  9.7  6.0 \n",
            "R  6.7  7.9  6.5 10.1  5.7  5.0  0.0  6.8  6.8  6.2  7.6 11.5 11.5 12.1 11.0  5.6 12.3 11.5  6.4  7.0  5.9 \n",
            "L  5.5  6.7 11.0 11.3 11.0  6.6  6.9  0.0  6.4  6.2  7.1  6.1 11.9 12.1 11.9 12.4  5.2 10.5 11.5  8.1  5.9 \n",
            "P 10.5 13.6  5.2 10.9 11.1  5.4  5.9  5.4  0.0  5.7  6.0 11.2  5.9 11.6 11.8 11.8 11.3 11.1 11.8 14.3 10.9 \n",
            "H 10.3 16.4 10.7  5.2 10.1 10.0  5.4  5.1  5.5  0.0  4.9 11.0 11.4  5.9 10.8 11.3 10.5  5.4 10.8 16.9 10.2 \n",
            "Q 10.6 11.5 10.7  9.9  5.2 10.8  5.4  5.1  5.5  4.8  0.0 11.0 11.4 10.7  5.9 11.3 15.2 10.1 15.5 12.0  5.4 \n",
            "V  5.3  7.1 11.0 10.9 11.4 11.1 11.7  5.6 11.8 11.7 12.2  0.0  5.8  5.7  6.3  6.3  6.4 11.6 12.7 14.2 12.0 \n",
            "A 10.5 13.7  5.1 10.7 11.4  5.9 11.3 11.0  6.0 11.5 12.2  5.4  0.0  5.5  6.3  5.9 11.6 11.4 12.2 15.0 11.9 \n",
            "D 10.3 16.4 10.6  5.2 10.0 10.2 11.3 11.1 11.5  6.0 10.8  5.1  5.5  0.0  4.9  5.4 11.0  5.9 11.3 17.5 10.8 \n",
            "E 10.6 11.5 10.6  9.9  5.2 11.4 10.2 10.4 11.5 10.7  6.0  5.1  5.5  4.8  0.0  5.4 15.8 10.7 16.1 12.6  5.9 \n",
            "G 11.1 14.5 11.1 10.5 11.7  5.4  5.5 11.6 11.9 11.3 12.5  5.9  5.9  5.4  6.6  0.0 12.1 11.3  6.2  9.3  7.5 \n",
            "F  5.3 11.4 11.1 10.5 15.4  5.8 12.1  4.6 11.7 11.1 16.0  6.3 12.2 11.6 16.5 12.6  0.0  5.3  6.3 12.5  9.9 \n",
            "Y 10.4 16.5 10.8  5.3 10.1  5.5 11.2  9.7 11.3  5.9 10.7 11.5 11.8  6.3 11.2 11.8  5.2  0.0  5.4 11.6  4.9 \n",
            "C 11.2 17.4 11.2 10.4 15.3  4.9  5.8 10.5 11.8 11.0 15.9 12.2 12.3 11.5 16.4  6.3  5.9  5.1  0.0  6.2  5.2 \n",
            "W 15.6 11.2 11.2 15.6 10.4  5.9  4.8  5.9 11.8 16.2 11.0 12.2 12.3 16.7 11.5  6.3 11.1 10.4  5.2  0.0  4.5 \n",
            "_ 10.6 12.7 10.8 10.0  5.4  5.6  7.1  5.2 11.4 10.6  6.0 11.5 11.9 11.1  6.5  8.6  9.9  4.8  6.9  7.0  0.0 \n",
            "\n",
            "Less likely mutation: D to W\n"
          ]
        }
      ]
    }
  ]
}